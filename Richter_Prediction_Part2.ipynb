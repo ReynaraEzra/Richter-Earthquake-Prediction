{
  "nbformat": 4,
  "nbformat_minor": 0,
  "metadata": {
    "colab": {
      "name": "Richter_Prediction_Part2.ipynb",
      "provenance": [],
      "authorship_tag": "ABX9TyPrf7ZAN3TUrJ40d6bStfSN",
      "include_colab_link": true
    },
    "kernelspec": {
      "name": "python3",
      "display_name": "Python 3"
    },
    "language_info": {
      "name": "python"
    }
  },
  "cells": [
    {
      "cell_type": "markdown",
      "metadata": {
        "id": "view-in-github",
        "colab_type": "text"
      },
      "source": [
        "<a href=\"https://colab.research.google.com/github/ReynaraEzra/Richter-Earthquake-Prediction/blob/main/Richter_Prediction_Part2.ipynb\" target=\"_parent\"><img src=\"https://colab.research.google.com/assets/colab-badge.svg\" alt=\"Open In Colab\"/></a>"
      ]
    },
    {
      "cell_type": "markdown",
      "metadata": {
        "id": "1W1VqanEHVxT"
      },
      "source": [
        "# **Predict Earthquake Damage to Building in Nepal (Part 2)**\n",
        "## **Reynara Ezra Pratama**"
      ]
    },
    {
      "cell_type": "code",
      "metadata": {
        "id": "G7xH0UsQHScN"
      },
      "source": [
        ""
      ],
      "execution_count": null,
      "outputs": []
    }
  ]
}